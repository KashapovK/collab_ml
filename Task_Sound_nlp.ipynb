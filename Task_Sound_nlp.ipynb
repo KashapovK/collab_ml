{
  "nbformat": 4,
  "nbformat_minor": 0,
  "metadata": {
    "kernelspec": {
      "display_name": "Python 3.6",
      "language": "python",
      "name": "python36"
    },
    "language_info": {
      "codemirror_mode": {
        "name": "ipython",
        "version": 3
      },
      "file_extension": ".py",
      "mimetype": "text/x-python",
      "name": "python",
      "nbconvert_exporter": "python",
      "pygments_lexer": "ipython3",
      "version": "3.6.6"
    },
    "colab": {
      "provenance": [],
      "include_colab_link": true
    }
  },
  "cells": [
    {
      "cell_type": "markdown",
      "metadata": {
        "id": "view-in-github",
        "colab_type": "text"
      },
      "source": [
        "<a href=\"https://colab.research.google.com/github/KashapovK/collab_ml/blob/main/Task_Sound_nlp.ipynb\" target=\"_parent\"><img src=\"https://colab.research.google.com/assets/colab-badge.svg\" alt=\"Open In Colab\"/></a>"
      ]
    },
    {
      "cell_type": "markdown",
      "metadata": {
        "id": "sR1ofOKLt9BZ"
      },
      "source": [
        "Install libraries"
      ]
    },
    {
      "cell_type": "code",
      "metadata": {
        "id": "AIPTANEPtweP",
        "colab": {
          "base_uri": "https://localhost:8080/"
        },
        "outputId": "b1281768-353b-4067-9505-16fcbcb44d18"
      },
      "source": [
        "!pip install -q SpeechRecognition==3.8.1\n",
        "!pip install -q pocketsphinx==5.0.0"
      ],
      "execution_count": null,
      "outputs": [
        {
          "output_type": "stream",
          "name": "stdout",
          "text": [
            "\u001b[2K     \u001b[90m━━━━━━━━━━━━━━━━━━━━━━━━━━━━━━━━━━━━━━━━\u001b[0m \u001b[32m32.8/32.8 MB\u001b[0m \u001b[31m21.8 MB/s\u001b[0m eta \u001b[36m0:00:00\u001b[0m\n",
            "\u001b[2K     \u001b[90m━━━━━━━━━━━━━━━━━━━━━━━━━━━━━━━━━━━━━━━━\u001b[0m \u001b[32m33.9/33.9 MB\u001b[0m \u001b[31m14.3 MB/s\u001b[0m eta \u001b[36m0:00:00\u001b[0m\n",
            "\u001b[?25h  Installing build dependencies ... \u001b[?25l\u001b[?25hdone\n",
            "  Getting requirements to build wheel ... \u001b[?25l\u001b[?25hdone\n",
            "  Preparing metadata (pyproject.toml) ... \u001b[?25l\u001b[?25hdone\n",
            "  Building wheel for pocketsphinx (pyproject.toml) ... \u001b[?25l\u001b[?25hdone\n"
          ]
        }
      ]
    },
    {
      "cell_type": "markdown",
      "metadata": {
        "id": "jLn1bzmstwea"
      },
      "source": [
        "Uploading library"
      ]
    },
    {
      "cell_type": "code",
      "metadata": {
        "id": "106DTxIGtweb"
      },
      "source": [
        "import speech_recognition as sr"
      ],
      "execution_count": null,
      "outputs": []
    },
    {
      "cell_type": "markdown",
      "metadata": {
        "id": "ZZPyjQDqtweg"
      },
      "source": [
        "Quite an easy code to recognize speech files and solve the problems:"
      ]
    },
    {
      "cell_type": "code",
      "metadata": {
        "id": "d1_TTZzhtweh",
        "colab": {
          "base_uri": "https://localhost:8080/"
        },
        "outputId": "431440ef-4506-4bd4-e5a8-dddfd2692829"
      },
      "source": [
        "# Имя файла, который требуется распознать\n",
        "AUDIO_FILE = '38.wav'\n",
        "\n",
        "# Чтение файла\n",
        "r = sr.Recognizer()\n",
        "with sr.AudioFile(AUDIO_FILE) as source:\n",
        "    audio = r.record(source)\n",
        "\n",
        "# Распознавание с помощью Sphinx\n",
        "try:\n",
        "    print(\"Результат Sphinx: \" + r.recognize_sphinx(audio))\n",
        "except sr.UnknownValueError:\n",
        "    print(\"Ошибка: Sphinx could not understand audio\")\n",
        "except sr.RequestError as e:\n",
        "    print(\"Ошибка: Sphinx error; {0}\".format(e))\n"
      ],
      "execution_count": null,
      "outputs": [
        {
          "output_type": "stream",
          "name": "stdout",
          "text": [
            "Результат Sphinx: bandar scar which losers\n"
          ]
        }
      ]
    },
    {
      "cell_type": "code",
      "metadata": {
        "id": "Obnc7C66tweo"
      },
      "source": [],
      "execution_count": null,
      "outputs": []
    }
  ]
}