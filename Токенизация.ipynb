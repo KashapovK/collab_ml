{
  "nbformat": 4,
  "nbformat_minor": 0,
  "metadata": {
    "colab": {
      "provenance": [],
      "toc_visible": true,
      "authorship_tag": "ABX9TyMibyO3MOJ3KdNhWvMr+5RI",
      "include_colab_link": true
    },
    "kernelspec": {
      "name": "python3",
      "display_name": "Python 3"
    },
    "language_info": {
      "name": "python"
    }
  },
  "cells": [
    {
      "cell_type": "markdown",
      "metadata": {
        "id": "view-in-github",
        "colab_type": "text"
      },
      "source": [
        "<a href=\"https://colab.research.google.com/github/KashapovK/collab_ml/blob/main/%D0%A2%D0%BE%D0%BA%D0%B5%D0%BD%D0%B8%D0%B7%D0%B0%D1%86%D0%B8%D1%8F.ipynb\" target=\"_parent\"><img src=\"https://colab.research.google.com/assets/colab-badge.svg\" alt=\"Open In Colab\"/></a>"
      ]
    },
    {
      "cell_type": "markdown",
      "source": [
        "Чекинатор. Кашапов Константин"
      ],
      "metadata": {
        "id": "ahPbYsruZlgI"
      }
    },
    {
      "cell_type": "code",
      "source": [
        "import requests"
      ],
      "metadata": {
        "id": "RG2HbizVcegv"
      },
      "execution_count": null,
      "outputs": []
    },
    {
      "cell_type": "code",
      "source": [
        "import nltk"
      ],
      "metadata": {
        "id": "zrJcBZ2gd4M2"
      },
      "execution_count": null,
      "outputs": []
    },
    {
      "cell_type": "code",
      "source": [
        "nltk.download(\"punkt\")\n",
        "nltk.download(\"averaged_perceptron_tagger\")"
      ],
      "metadata": {
        "colab": {
          "base_uri": "https://localhost:8080/"
        },
        "id": "OABY9j6Wd7jp",
        "outputId": "b4198316-39f7-481e-afe8-eebeea0b7337"
      },
      "execution_count": null,
      "outputs": [
        {
          "output_type": "stream",
          "name": "stderr",
          "text": [
            "[nltk_data] Downloading package punkt to /root/nltk_data...\n",
            "[nltk_data]   Package punkt is already up-to-date!\n",
            "[nltk_data] Downloading package averaged_perceptron_tagger to\n",
            "[nltk_data]     /root/nltk_data...\n",
            "[nltk_data]   Package averaged_perceptron_tagger is already up-to-\n",
            "[nltk_data]       date!\n"
          ]
        },
        {
          "output_type": "execute_result",
          "data": {
            "text/plain": [
              "True"
            ]
          },
          "metadata": {},
          "execution_count": 3
        }
      ]
    },
    {
      "cell_type": "code",
      "source": [
        "import numpy as np\n",
        "response = requests.get(\"https://www.w3.org/DesignIssues/TimBook-old/History.html\")\n",
        "text = response.text\n",
        "text_tokenized = nltk.tokenize.word_tokenize(text)\n",
        "\n",
        "tagged_words = nltk.pos_tag(text_tokenized)\n",
        "tags = [word_tag[1] for word_tag in tagged_words]\n",
        "\n",
        "name_tag_group_map = {\n",
        "    #Существительное\n",
        "    \"Nouns\": ['NN', 'NNP', 'NNPS', 'NNS'],\n",
        "    #Прилагательное\n",
        "    \"Adjectives\": ['JJ', 'JJR', 'JJS'],\n",
        "    #Глаголы\n",
        "    \"Verbs\": ['VB','VBP', 'VBD', 'VBG', 'VBN', 'VBP', 'VBZ'],\n",
        "    #Наречия\n",
        "    \"Adverbs\": [\"RBR\", \"RBS\"],\n",
        "    #Междометия\n",
        "    \"Interjections\": ['IN'],\n",
        "    #Предлоги\n",
        "    \"Prepositions\": [\"PRP\", \"PRPS\"],\n",
        "}\n",
        "\n",
        "name_count_map = []\n",
        "\n",
        "for name in name_tag_group_map:\n",
        "    tags_from_group = list(filter(lambda x : x in name_tag_group_map[name], tags))\n",
        "    name_count_map.append((name, len(tags_from_group)))\n",
        "\n",
        "name_count_map = np.array(name_count_map)\n",
        "name_count_map = name_count_map[name_count_map[:, 1].argsort()]\n",
        "print(name_count_map)"
      ],
      "metadata": {
        "colab": {
          "base_uri": "https://localhost:8080/"
        },
        "id": "kZJUgxUFggOX",
        "outputId": "0862642e-25fb-445a-cf04-f1d6e763c5c6"
      },
      "execution_count": null,
      "outputs": [
        {
          "output_type": "stream",
          "name": "stdout",
          "text": [
            "[['Prepositions' '127']\n",
            " ['Nouns' '1412']\n",
            " ['Adjectives' '283']\n",
            " ['Adverbs' '4']\n",
            " ['Interjections' '479']\n",
            " ['Verbs' '574']]\n"
          ]
        }
      ]
    }
  ]
}